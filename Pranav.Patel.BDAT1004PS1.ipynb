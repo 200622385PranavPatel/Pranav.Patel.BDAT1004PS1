{
 "cells": [
  {
   "cell_type": "markdown",
   "id": "ddac9d31",
   "metadata": {},
   "source": [
    "# Problem Set 1"
   ]
  },
  {
   "cell_type": "markdown",
   "id": "9551e2eb",
   "metadata": {},
   "source": [
    "## Question 1\n",
    "### What data type is each of the following (evaluate where necessary)?\n",
    "\n"
   ]
  },
  {
   "cell_type": "markdown",
   "id": "64e26d95",
   "metadata": {},
   "source": [
    "| **Expression**            | **Data Type** | **Explanation**                                                                 |\n",
    "|----------------------|---------------|---------------------------------------------------------------------------------|\n",
    "| 5                    | int           | Integer.                                                                        |\n",
    "| 5.0                  | float         | Floating-point number.                                                          |\n",
    "| 5 > 1                | bool          | Comparison boolean result (True).                                               |\n",
    "| '5'                  | str           | String because it's enclosed in quotes.                                         |\n",
    "| 5 * 2                | int           | Results in an integer (10) from multiplying two integers.                       |\n",
    "| '5' * 2              | str           | String repeated twice results in '55'.                                          |\n",
    "| '5' + '2'            | str           | Concatenation of two strings results in '52'.                                   |\n",
    "| 5 / 2                | float         | Division results in a floating-point number (2.5).                              |\n",
    "| 5 % 2                | int           | Modulo operation results in an integer (1).                                     |\n",
    "| {5, 2, 1}            | set           | Set contains unique elements {5, 2, 1}.                                         |\n",
    "| 5 == 3               | bool          | Comparison results in a boolean value (False).                                  |\n",
    "| Pi (the number)      | float         | Floating-point, as the value of Pi is approximately 3.14159.                    |\n"
   ]
  },
  {
   "cell_type": "markdown",
   "id": "5accfe65",
   "metadata": {},
   "source": [
    "## Question 2"
   ]
  },
  {
   "cell_type": "markdown",
   "id": "9c087c2f",
   "metadata": {},
   "source": [
    "### Write (and evaluate) python expressions that answer these questions:\n",
    "### a. How many letters are there in 'Supercalifragilisticexpialidocious'?"
   ]
  },
  {
   "cell_type": "code",
   "execution_count": 4,
   "id": "0f56e0be",
   "metadata": {},
   "outputs": [
    {
     "name": "stdout",
     "output_type": "stream",
     "text": [
      "34 letters are there in 'Supercalifragilisticexpialidocious\n"
     ]
    }
   ],
   "source": [
    "# Python expression to count the number of letters in the word\n",
    "NumOfLetter = len('Supercalifragilisticexpialidocious')\n",
    "\n",
    "print(NumOfLetter, \"letters are there in 'Supercalifragilisticexpialidocious\")\n"
   ]
  },
  {
   "cell_type": "markdown",
   "id": "0295f51b",
   "metadata": {},
   "source": [
    "### b. Does 'Supercalifragilisticexpialidocious' contain 'ice' as a substring?"
   ]
  },
  {
   "cell_type": "code",
   "execution_count": 5,
   "id": "aa44a90d",
   "metadata": {},
   "outputs": [
    {
     "name": "stdout",
     "output_type": "stream",
     "text": [
      "Yes, the word 'Supercalifragilisticexpialidocious' does contain 'ice' as a substring.\n"
     ]
    }
   ],
   "source": [
    "iceCheck = 'ice' in 'Supercalifragilisticexpialidocious'\n",
    "\n",
    "if iceCheck == False:\n",
    "    print(\"Not contain 'ice' as a substring in Supercalifragilisticexpialidocious\" )\n",
    "print(\"Yes, the word 'Supercalifragilisticexpialidocious' does contain 'ice' as a substring.\")\n"
   ]
  },
  {
   "cell_type": "markdown",
   "id": "f32bdbbd",
   "metadata": {},
   "source": [
    "### c. Which of the following words is the longest: \n",
    "Supercalifragilisticexpialidocious, Honorificabilitudinitatibus, or \n",
    "Bababadalgharaghtakamminarronnkonn?"
   ]
  },
  {
   "cell_type": "code",
   "execution_count": 6,
   "id": "138a9b15",
   "metadata": {},
   "outputs": [
    {
     "name": "stdout",
     "output_type": "stream",
     "text": [
      "Longest word(s): ['Supercalifragilisticexpialidocious', 'Bababadalgharaghtakamminarronnkonn']\n",
      "Length: 34\n"
     ]
    }
   ],
   "source": [
    "# Creating list to compare\n",
    "w = [\n",
    "    \"Supercalifragilisticexpialidocious\",\n",
    "    \"Honorificabilitudinitatibus\",\n",
    "    \"Bababadalgharaghtakamminarronnkonn\"\n",
    "]\n",
    "\n",
    "# variables initialization for tracking\n",
    "max_length = 0\n",
    "longestWords = []\n",
    "\n",
    "# list of words Iteration\n",
    "for word in w:\n",
    "    length = len(word)\n",
    "    if length > max_length:\n",
    "        max_length = length\n",
    "\n",
    "        # initiating a new list with the current longest word \n",
    "        # if in case there are same highest length words present in the list\n",
    "        longestWords = [word]  \n",
    "    elif length == max_length:\n",
    "        longestWords.append(word)  # If present, will Add to the list of longest words\n",
    "\n",
    "# Answer\n",
    "print(\"Longest word(s):\", longestWords)\n",
    "print(\"Length:\", max_length)\n"
   ]
  },
  {
   "cell_type": "markdown",
   "id": "a4994224",
   "metadata": {},
   "source": [
    "### d. Which composer comes first in the dictionary: 'Berlioz', 'Borodin', 'Brian', 'Bartok', 'Bellini', 'Buxtehude', 'Bernstein'. Which one comes last?"
   ]
  },
  {
   "cell_type": "code",
   "execution_count": 7,
   "id": "b5762ad2",
   "metadata": {},
   "outputs": [
    {
     "name": "stdout",
     "output_type": "stream",
     "text": [
      "Bartok  is First composer in the dictionary is \n",
      "Buxtehude  is Last composer in the dictionary\n"
     ]
    }
   ],
   "source": [
    "# List of composers\n",
    "composers = ['Berlioz','Borodin','Brian','Bartok','Bellini','Buxtehude','Bernstein']\n",
    "\n",
    "# Sorting\n",
    "sorted_composers = sorted(composers)\n",
    "\n",
    "# store first and last composer in fc an lc variable respectively\n",
    "fc = sorted_composers[0]\n",
    "lc = sorted_composers[-1]\n",
    "\n",
    "# Print the results\n",
    "print(fc, \" is First composer in the dictionary is \")\n",
    "print(lc, \" is Last composer in the dictionary\")"
   ]
  },
  {
   "cell_type": "markdown",
   "id": "a02e207d",
   "metadata": {},
   "source": [
    "## Question 3"
   ]
  },
  {
   "cell_type": "markdown",
   "id": "517f6ab9",
   "metadata": {},
   "source": [
    "### Implement function triangleArea(a,b,c) that takes as input the lengths of the 3 sides of a triangle and returns the area of the triangle. By Heron's formula, the area of a triangle with side lengths a, b, and c is sqrt of s(s-a)(s-b)(s-c) , where s=(a+b+c)/2.                                                                >>> triangleArea(2,2,2) 1.7320508075688772"
   ]
  },
  {
   "cell_type": "code",
   "execution_count": 8,
   "id": "de6df6ef",
   "metadata": {},
   "outputs": [
    {
     "name": "stdout",
     "output_type": "stream",
     "text": [
      "1.7320508075688772\n"
     ]
    }
   ],
   "source": [
    "import math\n",
    "\n",
    "def triangleArea(a, b, c):\n",
    "    # semi-perimeter calculation\n",
    "    s = (a + b + c) / 2\n",
    "    \n",
    "    # finding the area using Heron's formula\n",
    "    area = math.sqrt(s * (s - a) * (s - b) * (s - c))\n",
    "    \n",
    "    return area\n",
    "\n",
    "# Example usage\n",
    "print(triangleArea(2, 2, 2))  "
   ]
  },
  {
   "cell_type": "markdown",
   "id": "85e48de0",
   "metadata": {},
   "source": [
    "## Question 4"
   ]
  },
  {
   "cell_type": "markdown",
   "id": "600a322c",
   "metadata": {},
   "source": [
    "### Write a program in python to separate odd and even integers in separate arrays. Go to the editor Test Data :Input the number of elements to be stored in the array :5 Input 5 elements in the array :element - 0 : 25, element - 1 : 47, element - 2 : 42, element - 3 : 56, element - 4 : 32. Expected Output: The Even elements are: 42 56 32. The Odd elements are : 25 47"
   ]
  },
  {
   "cell_type": "code",
   "execution_count": 9,
   "id": "af73061b",
   "metadata": {},
   "outputs": [
    {
     "name": "stdout",
     "output_type": "stream",
     "text": [
      "Input the number of elements to be stored in the array: 5\n",
      "element - 0 : 25\n",
      "element - 1 : 47\n",
      "element - 2 : 42\n",
      "element - 3 : 56\n",
      "element - 4 : 32\n",
      "The Even elements are:\n",
      "42 56 32 \n",
      "The Odd elements are:\n",
      "25 47 \n"
     ]
    }
   ],
   "source": [
    "def sepOddEven():\n",
    "    # Input number of elements\n",
    "    n = int(input(\"Input the number of elements to be stored in the array: \"))\n",
    "    \n",
    "    # Initialize even and odd numbers (list)\n",
    "    evenNum = []\n",
    "    oddNum = []\n",
    "    \n",
    "    # Input elements\n",
    "    for i in range(n):\n",
    "        element = int(input(f\"element - {i} : \"))\n",
    "        if element % 2 == 0:\n",
    "            evenNum.append(element)  # Add to even list\n",
    "        else:\n",
    "            oddNum.append(element)  # Add to odd list\n",
    "    \n",
    " \n",
    "    print(\"The Even elements are:\")\n",
    "    for num in evenNum:\n",
    "        print(num, end=' ')  # Print each even number on the same line\n",
    "    print() \n",
    "    \n",
    "\n",
    "    print(\"The Odd elements are:\")\n",
    "    for num in oddNum:\n",
    "        print(num, end=' ')  # Print each odd number on the same line\n",
    "    print()  \n",
    "\n",
    "# Call the function\n",
    "sepOddEven()\n"
   ]
  },
  {
   "cell_type": "markdown",
   "id": "1c8debb5",
   "metadata": {},
   "source": [
    "## Question 5"
   ]
  },
  {
   "cell_type": "markdown",
   "id": "87de1854",
   "metadata": {},
   "source": [
    "### a. Write a function inside(x,y,x1,y1,x2,y2) that returns True or False depending on whether the point (x,y) lies in the rectangle with lower left corner (x1,y1) and upper right corner (x2,y2). >>> inside(1,1,0,0,2,3) True >>> inside(-1,-1,0,0,2,3) False"
   ]
  },
  {
   "cell_type": "code",
   "execution_count": 10,
   "id": "1e6f076d",
   "metadata": {},
   "outputs": [
    {
     "name": "stdout",
     "output_type": "stream",
     "text": [
      "True\n",
      "False\n"
     ]
    }
   ],
   "source": [
    "\"\"\"\n",
    "    Parameters (float):\n",
    "    x : x-coordinate of the point\n",
    "    y : y-coordinate of the point\n",
    "    x1: x-coordinate of the lower left corner of the rectangle\n",
    "    y1: y-coordinate of the lower left corner of the rectangle\n",
    "    x2: x-coordinate of the upper right corner of the rectangle\n",
    "    y2: y-coordinate of the upper right corner of the rectangle\n",
    "\n",
    "    Returns:\n",
    "    bool: True if the point is inside the rectangle, False otherwise\n",
    "    \"\"\"\n",
    "\n",
    "def inside(x, y, x1, y1, x2, y2):\n",
    "    \n",
    "    return x1 <= x <= x2 and y1 <= y <= y2\n",
    "\n",
    "# Example usage\n",
    "print(inside(1, 1, 0, 0, 2, 3))  \n",
    "print(inside(-1, -1, 0, 0, 2, 3))  \n"
   ]
  },
  {
   "cell_type": "markdown",
   "id": "192b68a0",
   "metadata": {},
   "source": [
    "### b. Use function inside() from part a. to write an expression that tests whether the point (1,1) lies in both of the following rectangles: one with lower left corner (0.3, 0.5) and upper right corner (1.1, 0.7) and the other with lower left corner (0.5, 0.2) and upper right corner (1.1, 2)."
   ]
  },
  {
   "cell_type": "code",
   "execution_count": 11,
   "id": "0f9bacd9",
   "metadata": {},
   "outputs": [
    {
     "name": "stdout",
     "output_type": "stream",
     "text": [
      "Point (1, 1) inside rectangle 1: False\n",
      "Point (1, 1) inside rectangle 2: True\n"
     ]
    }
   ],
   "source": [
    "def inside(x, y, x1, y1, x2, y2):\n",
    "   \n",
    "    return x1 <= x <= x2 and y1 <= y <= y2\n",
    "\n",
    "# checking point\n",
    "pointX = 1\n",
    "pointY = 1\n",
    "\n",
    "# Check if the point is inside the first rectangle\n",
    "r1 = inside(pointX, pointY, 0.3, 0.5, 1.1, 0.7)\n",
    "\n",
    "# Check if the point is inside the second rectangle\n",
    "r2 = inside(pointX, pointY, 0.5, 0.2, 1.1, 2)\n",
    "\n",
    "# Print results\n",
    "print(\"Point (1, 1) inside rectangle 1:\", r1)  \n",
    "print(\"Point (1, 1) inside rectangle 2:\", r2)  \n"
   ]
  },
  {
   "cell_type": "markdown",
   "id": "390a4ea1",
   "metadata": {},
   "source": [
    "## Question 6"
   ]
  },
  {
   "cell_type": "markdown",
   "id": "d0e71fd5",
   "metadata": {},
   "source": [
    "#### 16. You can turn a word into pig-Latin using the following two rules (simplified): • If the word starts with a consonant, move that letter to the end and append 'ay'. For example, 'happy' becomes 'appyhay' and 'pencil' becomes 'encilpay'. • If the word starts with a vowel, simply append 'way' to the end of the word. For example, 'enter' becomes 'enterway' and 'other' becomes 'otherway' . For our purposes, there are 5 vowels: a, e, i, o, u (so we count y as a consonant). Write a function pig() that takes a word (i.e., a string) as input and returns its pig-Latin form. Your function should still work if the input word contains upper case characters. Your output should always be lower case however. \n",
    "\n",
    "#### >>> pig('happy')\n",
    "#### 'appyhay'\n",
    "#### >>> pig('Enter')\n",
    "#### 'enterway'"
   ]
  },
  {
   "cell_type": "code",
   "execution_count": 12,
   "id": "04fbe02d",
   "metadata": {},
   "outputs": [
    {
     "name": "stdout",
     "output_type": "stream",
     "text": [
      "appyhay\n",
      "enterway\n"
     ]
    }
   ],
   "source": [
    "def pig(word):\n",
    "   \n",
    "    # Convert into lower case\n",
    "    lower_word = word.lower()\n",
    "    \n",
    "    # Check for vovel (first letter)\n",
    "    if lower_word[0] in 'aeiou':\n",
    "        return lower_word + 'way'  # Append 'way' for vowels\n",
    "    else:\n",
    "        # Move the first letter to the end and append 'ay' for consonants\n",
    "        return lower_word[1:] + lower_word[0] + 'ay'\n",
    "\n",
    "# Example usage\n",
    "print(pig('happy'))  # Output: 'appyhay'\n",
    "print(pig('Enter'))  # Output: 'enterway'\n"
   ]
  },
  {
   "cell_type": "markdown",
   "id": "7a522daf",
   "metadata": {},
   "source": [
    "## Question 7"
   ]
  },
  {
   "cell_type": "markdown",
   "id": "09ce6be8",
   "metadata": {},
   "source": [
    "#### File bloodtype1.txt records blood-types of patients (A, B, AB, O or OO) at a clinic. Write a function bldcount() that reads the file with name name and reports (i.e., prints) how many patients there are in each bloodtype.\n"
   ]
  },
  {
   "cell_type": "code",
   "execution_count": 13,
   "id": "bf803bbc",
   "metadata": {},
   "outputs": [
    {
     "name": "stdout",
     "output_type": "stream",
     "text": [
      "There are 15 patients of blood type A.\n",
      "There is 1 patients of blood type B.\n",
      "There are 13 patients of blood type AB.\n",
      "There are 15 patients of blood type O.\n",
      "There are no patients of blood type OO.\n"
     ]
    }
   ],
   "source": [
    "def bldcount(bloodtype1):\n",
    "  \n",
    "    bloodTypes = ['A', 'B', 'AB', 'O', 'OO']\n",
    "    counts = {bt: 0 for bt in bloodTypes}\n",
    "\n",
    "    # Open amd read file contents\n",
    "    infile = open(bloodtype1)  \n",
    "    blood_data = infile.read()  \n",
    "    infile.close()  \n",
    "\n",
    "    # Split the blood data into a list of blood types\n",
    "    blood_list = blood_data.split()\n",
    "\n",
    "    # Count occurrences \n",
    "    for blood in blood_list:\n",
    "        if blood in counts:\n",
    "            counts[blood] += 1\n",
    "\n",
    "    # Answer\n",
    "    for bt in bloodTypes:\n",
    "        count = counts[bt]\n",
    "        print(f\"There {'is' if count == 1 else 'are'} {count or 'no'} patients of blood type {bt}.\")\n",
    "\n",
    "\n",
    "bldcount('bloodtype1.txt')\n"
   ]
  },
  {
   "cell_type": "markdown",
   "id": "b0c775f9",
   "metadata": {},
   "source": [
    "## Question 8"
   ]
  },
  {
   "cell_type": "markdown",
   "id": "51a28e8c",
   "metadata": {},
   "source": [
    "#### Write a function curconv() that takes as input: 1. a currency represented using a string (e.g., 'JPY' for the Japanese Yen or 'EUR' for the Euro) 2. an amount and then converts and returns the amount in US dollars.\n",
    "\n",
    "#### >>> curconv('EUR', 100)\n",
    "#### 122.96544\n",
    "#### >>> curconv('JPY', 100)\n",
    "#### 1.241401\n"
   ]
  },
  {
   "cell_type": "code",
   "execution_count": 14,
   "id": "a26a4c62",
   "metadata": {},
   "outputs": [
    {
     "name": "stdout",
     "output_type": "stream",
     "text": [
      "122.96544\n",
      "1.241401\n"
     ]
    }
   ],
   "source": [
    "def curconv(currency, amount):\n",
    "    \n",
    "    # Open and read the file contents\n",
    "    infile = open('currencies.txt')  \n",
    "    CurrencyData = infile.read()  \n",
    "    infile.close()  \n",
    "    \n",
    "    # Initialize a dictionary to store currency rates\n",
    "    rates = {}\n",
    "\n",
    "    for line in CurrencyData.splitlines():  # Split the content into lines\n",
    "        parts = line.split()  # Split each line into parts\n",
    "        if len(parts) >= 2:  # Ensure there are enough parts\n",
    "            code = parts[0]  # Assign Currency code\n",
    "            rate = float(parts[1])  # Conversion rate to USD\n",
    "            rates[code] = rate  # Store in the dictionary\n",
    "\n",
    "    return amount * rates[currency] # Converting amount as per currency rate\n",
    "    \n",
    "# Answer\n",
    "print(curconv('EUR', 100))  \n",
    "print(curconv('JPY', 100))  \n",
    "\n",
    "    "
   ]
  },
  {
   "cell_type": "markdown",
   "id": "dc55ce82",
   "metadata": {},
   "source": [
    "## Question 9 "
   ]
  },
  {
   "cell_type": "markdown",
   "id": "51457b98",
   "metadata": {},
   "source": [
    "## Each of the following will cause an exception (an error). Identify what type of exception each will cause."
   ]
  },
  {
   "cell_type": "markdown",
   "id": "6c66f713",
   "metadata": {},
   "source": [
    "| **Error Scenario**                                                                                                  | **Exception Type** |\n",
    "|---------------------------------------------------------------------------------------------------------------------|--------------------------|\n",
    "| Trying to add incompatible variables, as in adding `6 + ‘a’`                                                        | TypeError                |\n",
    "| Referring to the 12th item of a list that has only 10 items                                                         | IndexError               |\n",
    "| Using a value that is out of range for a function’s input, such as calling `math.sqrt(-1.0)`                        | ValueError               |\n",
    "| Using an undeclared variable, such as `print(x)` when `x` has not been defined                                      | NameError                |\n",
    "| Trying to open a file that does not exist, such as mistyping the file name or looking in the wrong directory         | FileNotFoundError        |\n"
   ]
  },
  {
   "cell_type": "markdown",
   "id": "41a4de30",
   "metadata": {},
   "source": [
    "## Question 10\n"
   ]
  },
  {
   "cell_type": "markdown",
   "id": "13ba7f75",
   "metadata": {},
   "source": [
    "#### Encryption is the process of hiding the meaning of a text by substituting letters in the message with other letters, according to some system. If the process is successful, no one but the intended recipient can understand the encrypted message. Cryptanalysis refers to attempts to undo the encryption, even if some details of the encryption are unknown (for example, if an encrypted message has been intercepted). The first step of cryptanalysis is often to build up a table of letter frequencies in the encrypted text. Assume that the string letters is already defined as 'abcdefghijklmnopqrstuvwxyz'. Write a function called frequencies() that takes a string as its only parameter, and returns a list of integers, showing the number of times each character appears in the text. Your function may ignore any characters that are not in letters. \n",
    "\n",
    "#### >>> frequencies('The quick red fox got bored and went home.')\n",
    "#### [1, 1, 1, 3, 5, 1, 1, 2, 1, 0, 1, 0, 1, 2, 4, 0, 1, 2, 0, 2, 1, 0, 1, 1, 0, 0]\n",
    "#### >>> frequencies('apple')"
   ]
  },
  {
   "cell_type": "code",
   "execution_count": 15,
   "id": "485ae5d8",
   "metadata": {},
   "outputs": [
    {
     "name": "stdout",
     "output_type": "stream",
     "text": [
      "[1, 1, 1, 3, 5, 1, 1, 2, 1, 0, 1, 0, 1, 2, 4, 0, 1, 2, 0, 3, 1, 0, 1, 1, 0, 0]\n",
      "[1, 0, 0, 0, 1, 0, 0, 0, 0, 0, 0, 1, 0, 0, 0, 2, 0, 0, 0, 0, 0, 0, 0, 0, 0, 0]\n"
     ]
    }
   ],
   "source": [
    "def frequencies(text):\n",
    "   \n",
    "    # Define the string \n",
    "    letters = 'abcdefghijklmnopqrstuvwxyz'\n",
    "    \n",
    "    # Initialize a list of 26 zeros, one for each letter in the alphabet\n",
    "    freq = [0] * 26\n",
    "    \n",
    "    # handling case-insensitivity\n",
    "    text = text.lower()\n",
    "    \n",
    "    # Iterate through each character in the input text\n",
    "    for char in text:\n",
    "        if char in letters:\n",
    "            index = letters.index(char)  # Find the index of the character in 'letters'\n",
    "            freq[index] += 1  # Increment the frequency count for the corresponding letter\n",
    "\n",
    "    return freq\n",
    "\n",
    "# Answer\n",
    "print(frequencies('The quick red fox got bored and went home.'))\n",
    "print(frequencies('apple'))\n"
   ]
  },
  {
   "cell_type": "code",
   "execution_count": null,
   "id": "45e9c3e2",
   "metadata": {},
   "outputs": [],
   "source": []
  }
 ],
 "metadata": {
  "kernelspec": {
   "display_name": "Python 3 (ipykernel)",
   "language": "python",
   "name": "python3"
  },
  "language_info": {
   "codemirror_mode": {
    "name": "ipython",
    "version": 3
   },
   "file_extension": ".py",
   "mimetype": "text/x-python",
   "name": "python",
   "nbconvert_exporter": "python",
   "pygments_lexer": "ipython3",
   "version": "3.11.4"
  }
 },
 "nbformat": 4,
 "nbformat_minor": 5
}
